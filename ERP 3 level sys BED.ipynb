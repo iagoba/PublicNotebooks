{
 "cells": [
  {
   "cell_type": "markdown",
   "metadata": {},
   "source": [
    "#Program to compute expectation values and check wheter the the state created at the lab approaches to the singlet"
   ]
  },
  {
   "cell_type": "markdown",
   "metadata": {},
   "source": [
    "The space is spanded into $|N_{-1},N_0,N_{+1}\\rangle$ three mode symmetric picture, on wich the particle number is conserved, $N_{-1}+N_0+N_{+1}=N$."
   ]
  },
  {
   "cell_type": "markdown",
   "metadata": {},
   "source": [
    "In total one has to deal with $N(N+1)/2$ states basis. And also all the possible operators must be spanded by pairs of $a_\\alpha^\\dagger a_\\beta$ operators, where $\\alpha$ and $\\beta$ can take $\\{-1,0,+1\\}$ values in order to maintain the particle number constant. Thos operators must be deffined in order to satisfy the commutation relations for bosonic systems, $[a_\\alpha,a_\\beta^\\dagger]=\\delta_{\\alpha,\\beta}$."
   ]
  },
  {
   "cell_type": "markdown",
   "metadata": {},
   "source": [
    "#### Initialize the environtment to save data and such a things"
   ]
  },
  {
   "cell_type": "code",
   "execution_count": null,
   "metadata": {
    "collapsed": true
   },
   "outputs": [],
   "source": [
    "using HDF5"
   ]
  },
  {
   "cell_type": "markdown",
   "metadata": {},
   "source": [
    "## Create the basis and all the $a_\\alpha^\\dagger a_\\beta$ operators"
   ]
  },
  {
   "cell_type": "markdown",
   "metadata": {},
   "source": [
    "The basis is from upside down $|0,0,N\\rangle,|0,1,N-1\\rangle,|0,2,N-2\\rangle,\\dots,|1,0,N-1\\rangle,\\dots,|N,0,0\\rangle$."
   ]
  },
  {
   "cell_type": "markdown",
   "metadata": {},
   "source": [
    "There are 3 unique conminations of $a_\\alpha^\\dagger a_\\alpha$ the rest can be computed with the hermitian conjugate."
   ]
  },
  {
   "cell_type": "code",
   "execution_count": 1,
   "metadata": {
    "collapsed": false
   },
   "outputs": [
    {
     "data": {
      "text/plain": [
       "createAnnihilate (generic function with 1 method)"
      ]
     },
     "execution_count": 1,
     "metadata": {},
     "output_type": "execute_result"
    }
   ],
   "source": [
    "function createAnnihilate(α, β, N)\n",
    "    \n",
    "    dim = Int64((N+1)*(N+2)/2)\n",
    "        \n",
    "    if α == β\n",
    "        \n",
    "        diagonal = Float64[]\n",
    "        \n",
    "        if α == -1\n",
    "                        \n",
    "            for i in range(0,N+1)\n",
    "                \n",
    "                diagonal = [diagonal; fill(i,N+1-i)]\n",
    "                \n",
    "            end\n",
    "                        \n",
    "        elseif α == 0\n",
    "            \n",
    "            for i in range(0,N+1)\n",
    "            \n",
    "                for j in range(0,N+1-i)\n",
    "                    \n",
    "                    diagonal = [diagonal; j]\n",
    "                    \n",
    "                end\n",
    "            \n",
    "            end\n",
    "\n",
    "        else\n",
    "            \n",
    "            for i in range(0,N+1)\n",
    "            \n",
    "                for j in range(0,N+1-i)\n",
    "                    \n",
    "                    diagonal = [diagonal; N-i-j]\n",
    "                    \n",
    "                end\n",
    "            \n",
    "            end\n",
    "\n",
    "        end\n",
    "        \n",
    "        operator = diagm(diagonal)\n",
    "        \n",
    "    else\n",
    "        \n",
    "        operator = fill(0.,dim,dim)\n",
    "        \n",
    "        index = 0\n",
    "        \n",
    "        if α == -1\n",
    "            \n",
    "            if β == 0\n",
    "                \n",
    "                for i in range(0,N+1)\n",
    "\n",
    "                    for j in range(0,N+1-i)\n",
    "\n",
    "                        index += 1\n",
    "\n",
    "                        if i != 0\n",
    "\n",
    "                            operator[index, index-N-1+i] = sqrt(j+1)*sqrt(i)\n",
    "\n",
    "                        end\n",
    "\n",
    "                    end \n",
    "\n",
    "                end\n",
    "                                \n",
    "            else\n",
    "                \n",
    "                for i in range(0,N+1)\n",
    "                    \n",
    "                    for j in range(0,N+1-i)\n",
    "                        \n",
    "                        index += 1\n",
    "\n",
    "                        if i != 0\n",
    "\n",
    "                            operator[index, index-N-2+i] = sqrt(N-i+1-j)*sqrt(i)\n",
    "\n",
    "                        end\n",
    "                        \n",
    "                    end \n",
    "                    \n",
    "                end\n",
    "                \n",
    "            end\n",
    "            \n",
    "        elseif α == 0 \n",
    "            \n",
    "            if β == -1\n",
    "                \n",
    "                operator = createAnnihilate(-1,0,N)'\n",
    "                \n",
    "            else\n",
    "                \n",
    "                for i in range(0,N+1)\n",
    "                    \n",
    "                    for j in range(0,N+1-i)\n",
    "                        \n",
    "                        index += 1\n",
    "                        \n",
    "                        if j != 0\n",
    "                        \n",
    "                            operator[index, index-1] = sqrt(N-i-j+1)*sqrt(j)\n",
    "                        \n",
    "                        end\n",
    "                        \n",
    "                    end \n",
    "                    \n",
    "                end\n",
    "                \n",
    "            end\n",
    "            \n",
    "        else\n",
    "            \n",
    "            if β == -1\n",
    "                \n",
    "                operator = createAnnihilate(-1,1,N)'\n",
    "                \n",
    "            else\n",
    "                \n",
    "                operator = createAnnihilate(0,1,N)'\n",
    "                \n",
    "            end\n",
    "            \n",
    "        end\n",
    "        \n",
    "    end\n",
    "    \n",
    "    operator\n",
    "    \n",
    "end"
   ]
  },
  {
   "cell_type": "markdown",
   "metadata": {},
   "source": [
    "There are only 3 $a_\\alpha a_\\alpha^\\dagger$, since the subindex must be equal. If not they become the same as the function above because when the indexes are not equal the annihilation and creation operators commute."
   ]
  },
  {
   "cell_type": "code",
   "execution_count": 2,
   "metadata": {
    "collapsed": false
   },
   "outputs": [
    {
     "data": {
      "text/plain": [
       "annihilateCreate (generic function with 1 method)"
      ]
     },
     "execution_count": 2,
     "metadata": {},
     "output_type": "execute_result"
    }
   ],
   "source": [
    "annihilateCreate(α, N) = eye(Int((N+1)*(N+2)/2)) + createAnnihilate(α,α,N)"
   ]
  },
  {
   "cell_type": "code",
   "execution_count": 3,
   "metadata": {
    "collapsed": false
   },
   "outputs": [
    {
     "name": "stdout",
     "output_type": "stream",
     "text": [
      "  "
     ]
    }
   ],
   "source": [
    "@time begin\n",
    "    N = 4\n",
    "    for i in range(-1,3)\n",
    "        for j in range(-1,3)\n",
    "            1im * createAnnihilate(i,j,N)\n",
    "        end\n",
    "    end\n",
    "end"
   ]
  },
  {
   "cell_type": "markdown",
   "metadata": {},
   "source": [
    "## Test the operators"
   ]
  },
  {
   "cell_type": "markdown",
   "metadata": {},
   "source": [
    "For $N$ particlest in the state $|N,0,0>$ and $|0,0,N>$ the $\\langle J_z \\rangle = \\pm N$, $\\langle J_x \\rangle = \\langle J_y \\rangle = 0$ and ..."
   ]
  },
  {
   "cell_type": "code",
   "execution_count": 4,
   "metadata": {
    "collapsed": false
   },
   "outputs": [
    {
     "data": {
      "text/plain": [
       "Jy (generic function with 1 method)"
      ]
     },
     "execution_count": 4,
     "metadata": {},
     "output_type": "execute_result"
    },
    {
     "name": "stdout",
     "output_type": "stream",
     "text": [
      "0.272064 seconds (208.16 k allocations: 9.872 MB, 1.47% gc time)\n"
     ]
    }
   ],
   "source": [
    "Jz(N) = createAnnihilate(1,1,N) - createAnnihilate(-1,-1,N)\n",
    "Jx(N) = 1/sqrt(2) * (createAnnihilate(-1,0,N) + createAnnihilate(0,-1,N) +\n",
    "    createAnnihilate(1,0,N) + createAnnihilate(0,1,N))\n",
    "Jy(N) = 1im/sqrt(2) * (-createAnnihilate(-1,0,N) + createAnnihilate(0,-1,N) +\n",
    "    createAnnihilate(1,0,N) - createAnnihilate(0,1,N))"
   ]
  },
  {
   "cell_type": "code",
   "execution_count": 5,
   "metadata": {
    "collapsed": false
   },
   "outputs": [
    {
     "name": "stdout",
     "output_type": "stream",
     "text": [
      "  0.063625 seconds (46.84 k allocations: 2.408 MB)\n"
     ]
    }
   ],
   "source": [
    "@time begin\n",
    "    N = 4\n",
    "    Jx(N)\n",
    "    Jy(N)\n",
    "    Jz(N)\n",
    "end;"
   ]
  },
  {
   "cell_type": "markdown",
   "metadata": {
    "collapsed": true
   },
   "source": [
    "Autmatize the creation of singular states such as the singlet, the totally polarized states, the planar Dicke state for spin 1 etc..."
   ]
  },
  {
   "cell_type": "markdown",
   "metadata": {},
   "source": [
    "### Totally polarized states or differently populated states."
   ]
  },
  {
   "cell_type": "markdown",
   "metadata": {},
   "source": [
    "$N$ the particle number must be conserved. Let deffine a function where to create basis vectors out of the populations of the 3 modes."
   ]
  },
  {
   "cell_type": "code",
   "execution_count": 6,
   "metadata": {
    "collapsed": false
   },
   "outputs": [
    {
     "data": {
      "text/plain": [
       "ket (generic function with 1 method)"
      ]
     },
     "execution_count": 6,
     "metadata": {},
     "output_type": "execute_result"
    }
   ],
   "source": [
    "function ket(k, l, m)\n",
    "    \n",
    "    N = k+l+m\n",
    "    \n",
    "    state = fill(0,Int((N+1)*(N+2)/2))\n",
    "    \n",
    "    if k == 0\n",
    "        \n",
    "        state[l+1] = 1\n",
    "        \n",
    "    else\n",
    "        \n",
    "        state[Int(l+1+k*(N+1-(k-1)/2))] = 1\n",
    "        \n",
    "    end\n",
    "    \n",
    "    state\n",
    "    \n",
    "end"
   ]
  },
  {
   "cell_type": "markdown",
   "metadata": {},
   "source": [
    "## The problem"
   ]
  },
  {
   "cell_type": "markdown",
   "metadata": {},
   "source": [
    "Be an initial state shuch as $|0,N,0\\rangle$ and evolbe under a hamiltonian of the following type,\n",
    "$$H=J_x^2+J_y^2$$\n",
    "Which is the value of the expectation value for $\\sum (\\Delta J_l)^2 - N$?"
   ]
  },
  {
   "cell_type": "code",
   "execution_count": 7,
   "metadata": {
    "collapsed": false,
    "scrolled": true
   },
   "outputs": [
    {
     "data": {
      "text/plain": [
       "singletWitness (generic function with 1 method)"
      ]
     },
     "execution_count": 7,
     "metadata": {},
     "output_type": "execute_result"
    }
   ],
   "source": [
    "function phasem(phi,N)\n",
    "        \n",
    "    diagonal = Complex{Float64}[]\n",
    "\n",
    "    for i in range(0,N+1)\n",
    "\n",
    "        for j in range(0,N+1-i)\n",
    "\n",
    "            diagonal = [diagonal; exp(1im*phi*j)]\n",
    "\n",
    "        end\n",
    "\n",
    "    end\n",
    "\n",
    "    diagm(diagonal)\n",
    "\n",
    "end\n",
    "\n",
    "function singletWitness(phi,t,N)\n",
    "    \n",
    "    init_state = ket(0,N,0)\n",
    "    \n",
    "    H = Jx(N)^2+Jy(N)^2+Jz(N)^2\n",
    "                \n",
    "    state = phasem(phi,N)*expm(-1im*t*H)*init_state\n",
    "    \n",
    "    real(state'*(Jx(N)^2 + Jy(N)^2 +Jz(N)^2)*state)-    \n",
    "        abs2(real(state'*Jx(N)*state))-abs2(real(state'*Jy(N)*state))-abs2(real(state'*Jz(N)*state))-N\n",
    "    \n",
    "end"
   ]
  },
  {
   "cell_type": "markdown",
   "metadata": {},
   "source": [
    "Create a table for efficienci of the code."
   ]
  },
  {
   "cell_type": "markdown",
   "metadata": {},
   "source": [
    "|`singletWitness`|(0,0,4)   |(0.5,0,4) |(0.5,2.3,4)|(0.5,2.3,10)|(0.5,2.3,25)|(0.5,2.3,60)|N>60|\n",
    "|----------------|---------:|---------:|----------:|-----------:|-----------:|-----------:|---:|\n",
    "| time           |0.67 ms   |0.7 ms    |1.1 ms     |6 ms        |0.18 s      |17 s        |fail|\n",
    "| allocation     |1.9 k     |1.9 k     |1.95 k     |7.55 k      |37.8 k      |229.2 k     |fail|\n",
    "|                |351.109 KB|351.109 KB|451.55 KB  |6.98 MB     |193.482 MB  |5.541 GB    |fail|\n",
    "| gc time        |          |          |           |            |4.04%       |4.2%        |fail|"
   ]
  },
  {
   "cell_type": "code",
   "execution_count": 18,
   "metadata": {
    "collapsed": false,
    "scrolled": false
   },
   "outputs": [
    {
     "name": "stdout",
     "output_type": "stream",
     "text": [
      "  0.004936 seconds (7.55 k allocations: 6.976 MB)\n"
     ]
    }
   ],
   "source": [
    "@time singletWitness(0.5, 2.3, 10);"
   ]
  },
  {
   "cell_type": "markdown",
   "metadata": {},
   "source": [
    "Consider using sparse matrices to save memory allocations."
   ]
  },
  {
   "cell_type": "markdown",
   "metadata": {},
   "source": [
    "###Run the function and save the data"
   ]
  },
  {
   "cell_type": "code",
   "execution_count": null,
   "metadata": {
    "collapsed": true
   },
   "outputs": [],
   "source": [
    "function runAndSave()\n",
    "    N = [2,4,8,16,20]\n",
    "    phases = linspace(0,pi,30)\n",
    "    fileName = \"resultERP.h5\"\n",
    "    for \n",
    "end"
   ]
  }
 ],
 "metadata": {
  "kernelspec": {
   "display_name": "Julia 0.5.0-dev",
   "language": "julia",
   "name": "julia-0.5"
  },
  "language_info": {
   "file_extension": ".jl",
   "mimetype": "application/julia",
   "name": "julia",
   "version": "0.5.0"
  }
 },
 "nbformat": 4,
 "nbformat_minor": 0
}
